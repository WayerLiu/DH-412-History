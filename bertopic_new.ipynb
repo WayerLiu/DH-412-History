{
 "cells": [
  {
   "cell_type": "code",
   "execution_count": 1,
   "metadata": {},
   "outputs": [
    {
     "name": "stderr",
     "output_type": "stream",
     "text": [
      "/Users/wayer/opt/anaconda3/envs/mnlpa1/lib/python3.10/site-packages/tqdm/auto.py:21: TqdmWarning: IProgress not found. Please update jupyter and ipywidgets. See https://ipywidgets.readthedocs.io/en/stable/user_install.html\n",
      "  from .autonotebook import tqdm as notebook_tqdm\n"
     ]
    }
   ],
   "source": [
    "import zhconv\n",
    "import jieba\n",
    "import pandas as pd\n",
    "import transformers\n",
    "import re\n",
    "import esupar\n",
    "from supar.utils.transform import CoNLLSentence\n",
    "from itertools import combinations\n",
    "import sys\n",
    "import os\n",
    "import logging\n",
    "from transformers import AutoTokenizer, AutoModel\n",
    "import torch\n",
    "import numpy as np"
   ]
  },
  {
   "cell_type": "code",
   "execution_count": 6,
   "metadata": {},
   "outputs": [],
   "source": [
    "import matplotlib.pyplot as plt\n",
    "import seaborn as sns"
   ]
  },
  {
   "cell_type": "code",
   "execution_count": 2,
   "metadata": {},
   "outputs": [
    {
     "name": "stderr",
     "output_type": "stream",
     "text": [
      "/Users/wayer/opt/anaconda3/envs/mnlpa1/lib/python3.10/site-packages/tqdm/auto.py:21: TqdmWarning: IProgress not found. Please update jupyter and ipywidgets. See https://ipywidgets.readthedocs.io/en/stable/user_install.html\n",
      "  from .autonotebook import tqdm as notebook_tqdm\n"
     ]
    }
   ],
   "source": [
    "import pandas as pd\n",
    "from bertopic import BERTopic\n",
    "from sentence_transformers import SentenceTransformer\n",
    "from sklearn.feature_extraction.text import CountVectorizer\n",
    "\n",
    "import hdbscan\n",
    "from umap import UMAP\n",
    "from sklearn.cluster import KMeans"
   ]
  },
  {
   "cell_type": "code",
   "execution_count": 3,
   "metadata": {},
   "outputs": [],
   "source": [
    "data = pd.read_csv('data/dataset.csv')"
   ]
  },
  {
   "cell_type": "code",
   "execution_count": 4,
   "metadata": {},
   "outputs": [
    {
     "data": {
      "text/html": [
       "<div>\n",
       "<style scoped>\n",
       "    .dataframe tbody tr th:only-of-type {\n",
       "        vertical-align: middle;\n",
       "    }\n",
       "\n",
       "    .dataframe tbody tr th {\n",
       "        vertical-align: top;\n",
       "    }\n",
       "\n",
       "    .dataframe thead th {\n",
       "        text-align: right;\n",
       "    }\n",
       "</style>\n",
       "<table border=\"1\" class=\"dataframe\">\n",
       "  <thead>\n",
       "    <tr style=\"text-align: right;\">\n",
       "      <th></th>\n",
       "      <th>Unnamed: 0</th>\n",
       "      <th>book</th>\n",
       "      <th>chapter</th>\n",
       "      <th>content</th>\n",
       "    </tr>\n",
       "  </thead>\n",
       "  <tbody>\n",
       "    <tr>\n",
       "      <th>0</th>\n",
       "      <td>0</td>\n",
       "      <td>analects</td>\n",
       "      <td>學而</td>\n",
       "      <td>子曰：「學而時習之，不亦說乎？有朋自遠方來，不亦樂乎？人不知而不慍，不亦君子乎？」\\n\\n有...</td>\n",
       "    </tr>\n",
       "    <tr>\n",
       "      <th>1</th>\n",
       "      <td>1</td>\n",
       "      <td>analects</td>\n",
       "      <td>為政</td>\n",
       "      <td>子曰：「為政以德，譬如北辰，居其所而眾星共之。」\\n\\n子曰：「詩三百，一言以蔽之，曰『思無...</td>\n",
       "    </tr>\n",
       "    <tr>\n",
       "      <th>2</th>\n",
       "      <td>2</td>\n",
       "      <td>analects</td>\n",
       "      <td>八佾</td>\n",
       "      <td>孔子謂季氏：「八佾舞於庭，是可忍也，孰不可忍也？」\\n\\n三家者以雍徹。子曰：「『相維辟公，...</td>\n",
       "    </tr>\n",
       "    <tr>\n",
       "      <th>3</th>\n",
       "      <td>3</td>\n",
       "      <td>analects</td>\n",
       "      <td>里仁</td>\n",
       "      <td>子曰：「里仁為美。擇不處仁，焉得知？」\\n\\n子曰：「不仁者不可以久處約，不可以長處樂。仁者...</td>\n",
       "    </tr>\n",
       "    <tr>\n",
       "      <th>4</th>\n",
       "      <td>4</td>\n",
       "      <td>analects</td>\n",
       "      <td>公冶長</td>\n",
       "      <td>子謂公冶長，「可妻也。雖在縲絏之中，非其罪也」。以其子妻之。\\n\\n子謂南容，「邦有道，不廢...</td>\n",
       "    </tr>\n",
       "  </tbody>\n",
       "</table>\n",
       "</div>"
      ],
      "text/plain": [
       "   Unnamed: 0      book chapter  \\\n",
       "0           0  analects      學而   \n",
       "1           1  analects      為政   \n",
       "2           2  analects      八佾   \n",
       "3           3  analects      里仁   \n",
       "4           4  analects     公冶長   \n",
       "\n",
       "                                             content  \n",
       "0  子曰：「學而時習之，不亦說乎？有朋自遠方來，不亦樂乎？人不知而不慍，不亦君子乎？」\\n\\n有...  \n",
       "1  子曰：「為政以德，譬如北辰，居其所而眾星共之。」\\n\\n子曰：「詩三百，一言以蔽之，曰『思無...  \n",
       "2  孔子謂季氏：「八佾舞於庭，是可忍也，孰不可忍也？」\\n\\n三家者以雍徹。子曰：「『相維辟公，...  \n",
       "3  子曰：「里仁為美。擇不處仁，焉得知？」\\n\\n子曰：「不仁者不可以久處約，不可以長處樂。仁者...  \n",
       "4  子謂公冶長，「可妻也。雖在縲絏之中，非其罪也」。以其子妻之。\\n\\n子謂南容，「邦有道，不廢...  "
      ]
     },
     "execution_count": 4,
     "metadata": {},
     "output_type": "execute_result"
    }
   ],
   "source": [
    "data.head()"
   ]
  },
  {
   "cell_type": "markdown",
   "metadata": {},
   "source": [
    "## Word segmentation"
   ]
  },
  {
   "cell_type": "code",
   "execution_count": null,
   "metadata": {},
   "outputs": [],
   "source": [
    "nlp = esupar.load(\"KoichiYasuoka/roberta-classical-chinese-base-upos\")\n",
    "def word_segmentation(text):\n",
    "    if not text or not isinstance(text, str):\n",
    "        return ''\n",
    "    conllu_data = nlp(text)\n",
    "    word_segmented = conllu_data.values[1]\n",
    "    word_segmented = ' '.join(word_segmented)\n",
    "    return word_segmented"
   ]
  },
  {
   "cell_type": "code",
   "execution_count": 6,
   "metadata": {},
   "outputs": [
    {
     "data": {
      "text/html": [
       "<div>\n",
       "<style scoped>\n",
       "    .dataframe tbody tr th:only-of-type {\n",
       "        vertical-align: middle;\n",
       "    }\n",
       "\n",
       "    .dataframe tbody tr th {\n",
       "        vertical-align: top;\n",
       "    }\n",
       "\n",
       "    .dataframe thead th {\n",
       "        text-align: right;\n",
       "    }\n",
       "</style>\n",
       "<table border=\"1\" class=\"dataframe\">\n",
       "  <thead>\n",
       "    <tr style=\"text-align: right;\">\n",
       "      <th></th>\n",
       "      <th>book</th>\n",
       "      <th>chapter</th>\n",
       "      <th>content</th>\n",
       "    </tr>\n",
       "  </thead>\n",
       "  <tbody>\n",
       "    <tr>\n",
       "      <th>0</th>\n",
       "      <td>analects</td>\n",
       "      <td>学而</td>\n",
       "      <td>子曰：“学而时习之，不亦说乎？有朋自远方来，不亦乐乎？人不知而不愠，不亦君子乎？”\\n\\n有...</td>\n",
       "    </tr>\n",
       "    <tr>\n",
       "      <th>1</th>\n",
       "      <td>analects</td>\n",
       "      <td>为政</td>\n",
       "      <td>子曰：“为政以德，譬如北辰，居其所而众星共之。”\\n\\n子曰：“诗三百，一言以蔽之，曰‘思无...</td>\n",
       "    </tr>\n",
       "    <tr>\n",
       "      <th>2</th>\n",
       "      <td>analects</td>\n",
       "      <td>八佾</td>\n",
       "      <td>孔子谓季氏：“八佾舞于庭，是可忍也，孰不可忍也？”\\n\\n三家者以雍彻。子曰：“‘相维辟公，...</td>\n",
       "    </tr>\n",
       "    <tr>\n",
       "      <th>3</th>\n",
       "      <td>analects</td>\n",
       "      <td>里仁</td>\n",
       "      <td>子曰：“里仁为美。择不处仁，焉得知？”\\n\\n子曰：“不仁者不可以久处约，不可以长处乐。仁者...</td>\n",
       "    </tr>\n",
       "    <tr>\n",
       "      <th>4</th>\n",
       "      <td>analects</td>\n",
       "      <td>公冶长</td>\n",
       "      <td>子谓公冶长，“可妻也。虽在缧绁之中，非其罪也”。以其子妻之。\\n\\n子谓南容，“邦有道，不废...</td>\n",
       "    </tr>\n",
       "  </tbody>\n",
       "</table>\n",
       "</div>"
      ],
      "text/plain": [
       "       book chapter                                            content\n",
       "0  analects      学而  子曰：“学而时习之，不亦说乎？有朋自远方来，不亦乐乎？人不知而不愠，不亦君子乎？”\\n\\n有...\n",
       "1  analects      为政  子曰：“为政以德，譬如北辰，居其所而众星共之。”\\n\\n子曰：“诗三百，一言以蔽之，曰‘思无...\n",
       "2  analects      八佾  孔子谓季氏：“八佾舞于庭，是可忍也，孰不可忍也？”\\n\\n三家者以雍彻。子曰：“‘相维辟公，...\n",
       "3  analects      里仁  子曰：“里仁为美。择不处仁，焉得知？”\\n\\n子曰：“不仁者不可以久处约，不可以长处乐。仁者...\n",
       "4  analects     公冶长  子谓公冶长，“可妻也。虽在缧绁之中，非其罪也”。以其子妻之。\\n\\n子谓南容，“邦有道，不废..."
      ]
     },
     "execution_count": 6,
     "metadata": {},
     "output_type": "execute_result"
    }
   ],
   "source": [
    "from zhconv import convert\n",
    "# Convert the content to Simplified Chinese\n",
    "data['chapter'] = data['chapter'].apply(lambda x: convert(x, 'zh-cn'))\n",
    "data['content'] = data['content'].apply(lambda x: convert(x, 'zh-cn'))\n",
    "\n",
    "# Create 'book', 'chapter', 'sentences' structure\n",
    "data = data[['book', 'chapter', 'content']]\n",
    "\n",
    "# Show the modified DataFrame\n",
    "data.head()\n"
   ]
  },
  {
   "cell_type": "code",
   "execution_count": null,
   "metadata": {},
   "outputs": [],
   "source": [
    "# 对'sentences'列应用word_segmentation函数，记录到一个txt文件中, 而且每一步都保存\n",
    "with open('data/word_segmentation.txt', 'w', encoding='utf-8') as f:\n",
    "    for sentence in data_sample['sentences']:\n",
    "        seg_sentence = word_segmentation(sentence)\n",
    "        f.write(seg_sentence + '\\n')\n",
    "        f.flush()  # 刷新文件内容到磁盘"
   ]
  },
  {
   "cell_type": "code",
   "execution_count": 9,
   "metadata": {},
   "outputs": [],
   "source": [
    "# read output.txt file, and load it into the data dataframe, as a new column called 'segmented'\n",
    "if os.path.exists('data/word_segmentation.txt'):\n",
    "    with open('data/word_segmentation.txt', 'r') as f:\n",
    "        lines = f.readlines()\n",
    "    data['segmented'] = lines"
   ]
  },
  {
   "cell_type": "markdown",
   "metadata": {},
   "source": [
    "## Add time attribute"
   ]
  },
  {
   "cell_type": "code",
   "execution_count": 12,
   "metadata": {},
   "outputs": [],
   "source": [
    "list_bookname = list(data[\"book\"].unique())\n",
    "list_book_time = [\n",
    "    ['analects',-480, -350],\n",
    "    ['mengzi',  -340, -250],\n",
    "    ['liji',    -475, -221],\n",
    "    ['xunzi',   -475, -221],\n",
    "    ['xiao-jing',-475, -221],\n",
    "    ['shuo-yuan',-206, 9],\n",
    "    ['chun-qiu-fan-lu',-206, 9],\n",
    "    ['han-shi-wai-zhuan',-180, -120],\n",
    "    ['da-dai-li-ji',100, 200],\n",
    "    ['bai-hu-tong',79, 92],\n",
    "    ['xin-shu', -206, 9],\n",
    "    ['xin-xu',-206, 9],\n",
    "    ['yangzi-fayan',-33, 18],\n",
    "    ['zhong-lun',25, 220],\n",
    "    ['kongzi-jiayu',-206, 220],\n",
    "    ['qian-fu-lun',102, 167],\n",
    "    ['lunheng', 80, 80],\n",
    "    ['taixuanjing',-33, 18],\n",
    "    ['fengsutongyi',190, 200],\n",
    "    ['kongcongzi',25, 265],\n",
    "    ['shenjian',196, 220],\n",
    "    ['zhong-jing',100,166],\n",
    "    ['su-shu',-250,-186],\n",
    "    ['xinyu',-196, -196],\n",
    "    ['duduan',167, 258],\n",
    "    ['caizhong-langji', 152, 192]\n",
    "]"
   ]
  },
  {
   "cell_type": "code",
   "execution_count": 13,
   "metadata": {},
   "outputs": [],
   "source": [
    "data[\"average_year\"] = None\n",
    "num = list_bookname.index(data.iloc[0][\"book\"])\n",
    "for i in range(data.shape[0]):\n",
    "    num = list_bookname.index(data.iloc[i][\"book\"])\n",
    "    list_book_time[num]\n",
    "    data.loc[i, 'average_year'] = int((list_book_time[num][1]+list_book_time[num][2])/2)"
   ]
  },
  {
   "cell_type": "code",
   "execution_count": 14,
   "metadata": {},
   "outputs": [],
   "source": [
    "# a function that maps the year in range 480bc (-480) to 258 to range 1677 to 2262, and able to map it back\n",
    "def map_year(year):\n",
    "    return int(year/2 + 2000)\n",
    "\n",
    "def map_year_back(year):\n",
    "    return int((year - 2000)*2)\n",
    "\n",
    "data['mapped_year'] = data['average_year'].apply(map_year)"
   ]
  },
  {
   "cell_type": "code",
   "execution_count": 15,
   "metadata": {},
   "outputs": [
    {
     "data": {
      "text/html": [
       "<div>\n",
       "<style scoped>\n",
       "    .dataframe tbody tr th:only-of-type {\n",
       "        vertical-align: middle;\n",
       "    }\n",
       "\n",
       "    .dataframe tbody tr th {\n",
       "        vertical-align: top;\n",
       "    }\n",
       "\n",
       "    .dataframe thead th {\n",
       "        text-align: right;\n",
       "    }\n",
       "</style>\n",
       "<table border=\"1\" class=\"dataframe\">\n",
       "  <thead>\n",
       "    <tr style=\"text-align: right;\">\n",
       "      <th></th>\n",
       "      <th>book</th>\n",
       "      <th>chapter</th>\n",
       "      <th>segmented</th>\n",
       "      <th>average_year</th>\n",
       "      <th>mapped_year</th>\n",
       "      <th>contain_ren</th>\n",
       "    </tr>\n",
       "  </thead>\n",
       "  <tbody>\n",
       "    <tr>\n",
       "      <th>0</th>\n",
       "      <td>analects</td>\n",
       "      <td>学而</td>\n",
       "      <td>子 曰 学 而 时 习 之 不 亦 说 乎 有 朋 自 远 方 来 不 亦 乐 乎 人 不 ...</td>\n",
       "      <td>-415</td>\n",
       "      <td>1792</td>\n",
       "      <td>1</td>\n",
       "    </tr>\n",
       "    <tr>\n",
       "      <th>1</th>\n",
       "      <td>analects</td>\n",
       "      <td>为政</td>\n",
       "      <td>子 曰 为 政 以 德 譬 如 北 辰 居 其 所 而 众 星 共 之 子 曰 诗 三百 一...</td>\n",
       "      <td>-415</td>\n",
       "      <td>1792</td>\n",
       "      <td>0</td>\n",
       "    </tr>\n",
       "    <tr>\n",
       "      <th>2</th>\n",
       "      <td>analects</td>\n",
       "      <td>八佾</td>\n",
       "      <td>孔子 谓 季 氏 八 佾 舞 于 庭 是 可 忍 也 孰 不 可 忍 也 三 家 者 以 雍...</td>\n",
       "      <td>-415</td>\n",
       "      <td>1792</td>\n",
       "      <td>1</td>\n",
       "    </tr>\n",
       "    <tr>\n",
       "      <th>3</th>\n",
       "      <td>analects</td>\n",
       "      <td>里仁</td>\n",
       "      <td>子 曰 里 仁 为 美 择 不 处 仁 焉 得 知 子 曰 不 仁 者 不 可 以 久 处 ...</td>\n",
       "      <td>-415</td>\n",
       "      <td>1792</td>\n",
       "      <td>1</td>\n",
       "    </tr>\n",
       "    <tr>\n",
       "      <th>4</th>\n",
       "      <td>analects</td>\n",
       "      <td>公冶长</td>\n",
       "      <td>子 谓 公冶 长 可 妻 也 虽 在 缧 绁 之 中 非 其 罪 也 以 其 子 妻 之 子...</td>\n",
       "      <td>-415</td>\n",
       "      <td>1792</td>\n",
       "      <td>1</td>\n",
       "    </tr>\n",
       "  </tbody>\n",
       "</table>\n",
       "</div>"
      ],
      "text/plain": [
       "       book chapter                                          segmented  \\\n",
       "0  analects      学而  子 曰 学 而 时 习 之 不 亦 说 乎 有 朋 自 远 方 来 不 亦 乐 乎 人 不 ...   \n",
       "1  analects      为政  子 曰 为 政 以 德 譬 如 北 辰 居 其 所 而 众 星 共 之 子 曰 诗 三百 一...   \n",
       "2  analects      八佾  孔子 谓 季 氏 八 佾 舞 于 庭 是 可 忍 也 孰 不 可 忍 也 三 家 者 以 雍...   \n",
       "3  analects      里仁  子 曰 里 仁 为 美 择 不 处 仁 焉 得 知 子 曰 不 仁 者 不 可 以 久 处 ...   \n",
       "4  analects     公冶长  子 谓 公冶 长 可 妻 也 虽 在 缧 绁 之 中 非 其 罪 也 以 其 子 妻 之 子...   \n",
       "\n",
       "  average_year  mapped_year  contain_ren  \n",
       "0         -415         1792            1  \n",
       "1         -415         1792            0  \n",
       "2         -415         1792            1  \n",
       "3         -415         1792            1  \n",
       "4         -415         1792            1  "
      ]
     },
     "execution_count": 15,
     "metadata": {},
     "output_type": "execute_result"
    }
   ],
   "source": [
    "# Add a new column 'contain_ren' to check if the sentence contains the character '仁'\n",
    "data['contain_ren'] = data['segmented'].apply(lambda x: 1 if '仁' in x else 0)\n",
    "\n",
    "# Show the modified DataFrame\n",
    "data.head()"
   ]
  },
  {
   "cell_type": "code",
   "execution_count": 16,
   "metadata": {},
   "outputs": [
    {
     "name": "stdout",
     "output_type": "stream",
     "text": [
      "The length of the DataFrame is 697\n",
      "The number of sentences that contain the character \"仁\" is 346\n"
     ]
    }
   ],
   "source": [
    "print(f'The length of the DataFrame is {len(data)}', \n",
    "      f'The number of sentences that contain the character \"仁\" is {len(data[data[\"contain_ren\"] == 1])}', sep='\\n')"
   ]
  },
  {
   "cell_type": "code",
   "execution_count": 17,
   "metadata": {},
   "outputs": [],
   "source": [
    "# Create a new DataFrame 'ren_data' that contains only the sentences that contain the character '仁'\n",
    "ren_data = data[data['contain_ren'] == 1].copy()\n",
    "\n",
    "# drop the 'contain_ren' column\n",
    "ren_data.drop('contain_ren', axis=1, inplace=True)\n",
    "ren_data.reset_index(drop=True, inplace=True)"
   ]
  },
  {
   "cell_type": "code",
   "execution_count": 18,
   "metadata": {},
   "outputs": [
    {
     "data": {
      "text/html": [
       "<div>\n",
       "<style scoped>\n",
       "    .dataframe tbody tr th:only-of-type {\n",
       "        vertical-align: middle;\n",
       "    }\n",
       "\n",
       "    .dataframe tbody tr th {\n",
       "        vertical-align: top;\n",
       "    }\n",
       "\n",
       "    .dataframe thead th {\n",
       "        text-align: right;\n",
       "    }\n",
       "</style>\n",
       "<table border=\"1\" class=\"dataframe\">\n",
       "  <thead>\n",
       "    <tr style=\"text-align: right;\">\n",
       "      <th></th>\n",
       "      <th>book</th>\n",
       "      <th>chapter</th>\n",
       "      <th>segmented</th>\n",
       "      <th>average_year</th>\n",
       "      <th>mapped_year</th>\n",
       "    </tr>\n",
       "  </thead>\n",
       "  <tbody>\n",
       "    <tr>\n",
       "      <th>0</th>\n",
       "      <td>analects</td>\n",
       "      <td>学而</td>\n",
       "      <td>子 曰 学 而 时 习 之 不 亦 说 乎 有 朋 自 远 方 来 不 亦 乐 乎 人 不 ...</td>\n",
       "      <td>-415</td>\n",
       "      <td>1792</td>\n",
       "    </tr>\n",
       "    <tr>\n",
       "      <th>1</th>\n",
       "      <td>analects</td>\n",
       "      <td>八佾</td>\n",
       "      <td>孔子 谓 季 氏 八 佾 舞 于 庭 是 可 忍 也 孰 不 可 忍 也 三 家 者 以 雍...</td>\n",
       "      <td>-415</td>\n",
       "      <td>1792</td>\n",
       "    </tr>\n",
       "    <tr>\n",
       "      <th>2</th>\n",
       "      <td>analects</td>\n",
       "      <td>里仁</td>\n",
       "      <td>子 曰 里 仁 为 美 择 不 处 仁 焉 得 知 子 曰 不 仁 者 不 可 以 久 处 ...</td>\n",
       "      <td>-415</td>\n",
       "      <td>1792</td>\n",
       "    </tr>\n",
       "    <tr>\n",
       "      <th>3</th>\n",
       "      <td>analects</td>\n",
       "      <td>公冶长</td>\n",
       "      <td>子 谓 公冶 长 可 妻 也 虽 在 缧 绁 之 中 非 其 罪 也 以 其 子 妻 之 子...</td>\n",
       "      <td>-415</td>\n",
       "      <td>1792</td>\n",
       "    </tr>\n",
       "    <tr>\n",
       "      <th>4</th>\n",
       "      <td>analects</td>\n",
       "      <td>雍也</td>\n",
       "      <td>子 曰 雍 也 可 使 南 面 仲弓 问 子桑 伯子 子 曰 可 也 简 仲弓 曰 居 敬 ...</td>\n",
       "      <td>-415</td>\n",
       "      <td>1792</td>\n",
       "    </tr>\n",
       "  </tbody>\n",
       "</table>\n",
       "</div>"
      ],
      "text/plain": [
       "       book chapter                                          segmented  \\\n",
       "0  analects      学而  子 曰 学 而 时 习 之 不 亦 说 乎 有 朋 自 远 方 来 不 亦 乐 乎 人 不 ...   \n",
       "1  analects      八佾  孔子 谓 季 氏 八 佾 舞 于 庭 是 可 忍 也 孰 不 可 忍 也 三 家 者 以 雍...   \n",
       "2  analects      里仁  子 曰 里 仁 为 美 择 不 处 仁 焉 得 知 子 曰 不 仁 者 不 可 以 久 处 ...   \n",
       "3  analects     公冶长  子 谓 公冶 长 可 妻 也 虽 在 缧 绁 之 中 非 其 罪 也 以 其 子 妻 之 子...   \n",
       "4  analects      雍也  子 曰 雍 也 可 使 南 面 仲弓 问 子桑 伯子 子 曰 可 也 简 仲弓 曰 居 敬 ...   \n",
       "\n",
       "  average_year  mapped_year  \n",
       "0         -415         1792  \n",
       "1         -415         1792  \n",
       "2         -415         1792  \n",
       "3         -415         1792  \n",
       "4         -415         1792  "
      ]
     },
     "execution_count": 18,
     "metadata": {},
     "output_type": "execute_result"
    }
   ],
   "source": [
    "ren_data.head()"
   ]
  },
  {
   "cell_type": "code",
   "execution_count": 19,
   "metadata": {},
   "outputs": [
    {
     "data": {
      "text/plain": [
       "array([-415, -295, -348, -98, -150, 150, 85, -7, 122, 7, 134, 80, 195,\n",
       "       145, 208, 133, -218, -196, 212, 172], dtype=object)"
      ]
     },
     "execution_count": 19,
     "metadata": {},
     "output_type": "execute_result"
    }
   ],
   "source": [
    "ren_data['average_year'].unique()"
   ]
  },
  {
   "cell_type": "code",
   "execution_count": 20,
   "metadata": {},
   "outputs": [
    {
     "data": {
      "text/plain": [
       "array([1792, 1852, 1826, 1951, 1925, 2075, 2042, 1996, 2061, 2003, 2067,\n",
       "       2040, 2097, 2072, 2104, 2066, 1891, 1902, 2106, 2086])"
      ]
     },
     "execution_count": 20,
     "metadata": {},
     "output_type": "execute_result"
    }
   ],
   "source": [
    "ren_data['mapped_year'].unique()"
   ]
  },
  {
   "cell_type": "markdown",
   "metadata": {},
   "source": [
    "# Bertopic"
   ]
  },
  {
   "cell_type": "code",
   "execution_count": 31,
   "metadata": {},
   "outputs": [
    {
     "name": "stdout",
     "output_type": "stream",
     "text": [
      "346\n"
     ]
    }
   ],
   "source": [
    "data_set=[]\n",
    "\n",
    "# store the sentences in the 'segmented' column to the data_set list\n",
    "for sentence in ren_data['segmented']:\n",
    "    data_set.append(sentence)\n",
    "print(len(data_set))"
   ]
  },
  {
   "cell_type": "code",
   "execution_count": 41,
   "metadata": {},
   "outputs": [
    {
     "name": "stdout",
     "output_type": "stream",
     "text": [
      "Using device: cuda\n"
     ]
    },
    {
     "name": "stderr",
     "output_type": "stream",
     "text": [
      "Some weights of BertModel were not initialized from the model checkpoint at Jihuai/bert-ancient-chinese and are newly initialized: ['bert.pooler.dense.bias', 'bert.pooler.dense.weight']\n",
      "You should probably TRAIN this model on a down-stream task to be able to use it for predictions and inference.\n"
     ]
    },
    {
     "name": "stdout",
     "output_type": "stream",
     "text": [
      "Processed 32/346 sentences\n",
      "Processed 64/346 sentences\n",
      "Processed 96/346 sentences\n",
      "Processed 128/346 sentences\n",
      "Processed 160/346 sentences\n",
      "Processed 192/346 sentences\n",
      "Processed 224/346 sentences\n",
      "Processed 256/346 sentences\n",
      "Processed 288/346 sentences\n",
      "Processed 320/346 sentences\n",
      "Processed 352/346 sentences\n",
      "(346, 16128)\n"
     ]
    }
   ],
   "source": [
    "# Generate word embedding vectors\n",
    "\n",
    "device = torch.device('cuda' if torch.cuda.is_available() else 'cpu')\n",
    "print(f\"Using device: {device}\")\n",
    "\n",
    "tokenizer = AutoTokenizer.from_pretrained(\"Jihuai/bert-ancient-chinese\")\n",
    "model = AutoModel.from_pretrained(\"Jihuai/bert-ancient-chinese\").to(device)\n",
    "\n",
    "# 定义一个函数来分割长句子\n",
    "def split_sentence(sentence, max_length=512):\n",
    "    tokens = tokenizer.tokenize(sentence)\n",
    "    chunks = [tokens[i:i + max_length] for i in range(0, len(tokens), max_length)]\n",
    "    return [tokenizer.convert_tokens_to_string(chunk) for chunk in chunks]\n",
    "\n",
    "# 定义一个函数来计算最大分块数\n",
    "def compute_max_chunks(sentences, max_length=512):\n",
    "    max_chunks = 0\n",
    "    sentence_chunk_counts = []\n",
    "    for sentence in sentences:\n",
    "        chunks = split_sentence(sentence, max_length=max_length)\n",
    "        chunk_count = len(chunks)\n",
    "        sentence_chunk_counts.append(chunk_count)\n",
    "        if chunk_count > max_chunks:\n",
    "            max_chunks = chunk_count\n",
    "    return max_chunks, sentence_chunk_counts\n",
    "\n",
    "# 定义一个封装函数，使其行为类似于 sentence_model.encode\n",
    "def encode_sentences(model, tokenizer, sentences, max_chunks, batch_size=32, max_length=512, show_progress_bar=False):\n",
    "    all_embeddings = []\n",
    "    sentence_chunk_counts = []\n",
    "    for i in range(0, len(sentences), batch_size):\n",
    "        batch = sentences[i:i+batch_size]\n",
    "        batch_embeddings = []\n",
    "        for sentence in batch:\n",
    "            chunks = split_sentence(sentence, max_length=max_length)\n",
    "            sentence_chunk_counts.append(len(chunks))\n",
    "            encoded_input = tokenizer(chunks, padding=True, truncation=True, max_length=max_length, return_tensors='pt').to(device)\n",
    "            with torch.no_grad():\n",
    "                model_output = model(**encoded_input)\n",
    "            sentence_embeddings = model_output.last_hidden_state.mean(dim=1)  # 平均池化\n",
    "            batch_embeddings.append(sentence_embeddings)\n",
    "        all_embeddings.extend(batch_embeddings)\n",
    "        if show_progress_bar:\n",
    "            print(f\"Processed {i+batch_size}/{len(sentences)} sentences\")\n",
    "    \n",
    "    # 扩展并拼接嵌入\n",
    "    extended_embeddings = []\n",
    "    for sentence_embeddings, chunk_count in zip(all_embeddings, sentence_chunk_counts):\n",
    "        padding = torch.zeros((max_chunks - chunk_count, sentence_embeddings.shape[1])).to(device)\n",
    "        extended_embedding = torch.cat([sentence_embeddings, padding], dim=0).flatten()\n",
    "        extended_embeddings.append(extended_embedding)\n",
    "    \n",
    "    return torch.stack(extended_embeddings).cpu().numpy()\n",
    "\n",
    "# 计算最大分块数\n",
    "max_chunks, sentence_chunk_counts = compute_max_chunks(data_set, max_length=512)\n",
    "\n",
    "# # 使用封装函数来生成嵌入\n",
    "embeddings = encode_sentences(model, tokenizer, data_set, max_chunks, batch_size=32, max_length=512, show_progress_bar=True)\n",
    "\n",
    "print(embeddings.shape)  # 输出的形状应为 (346, max_chunks * 768)\n",
    "\n",
    "# # 保存嵌入\n",
    "np.save('embeddings.npy', embeddings)"
   ]
  },
  {
   "cell_type": "code",
   "execution_count": 23,
   "metadata": {},
   "outputs": [],
   "source": [
    "# 从文件中加载嵌入\n",
    "embeddings = np.load('data/embeddings.npy')"
   ]
  },
  {
   "cell_type": "code",
   "execution_count": 30,
   "metadata": {},
   "outputs": [
    {
     "name": "stdout",
     "output_type": "stream",
     "text": [
      "(346, 16128) (346, 5)\n"
     ]
    }
   ],
   "source": [
    "print(embeddings.shape, ren_data.shape)"
   ]
  },
  {
   "cell_type": "code",
   "execution_count": 25,
   "metadata": {},
   "outputs": [
    {
     "name": "stdout",
     "output_type": "stream",
     "text": [
      "[1792, 1925, 2061, 2066, 2067, 2072, 2075, 1951, 1826, 2086, 2097, 2104, 2106, 1852, 1996, 2003, 1891, 1902, 2040, 2042]\n"
     ]
    }
   ],
   "source": [
    "# see unique years in timestamp\n",
    "timestamp = ren_data['mapped_year'].tolist()\n",
    "unique_years = list(set(timestamp))\n",
    "print(unique_years)"
   ]
  },
  {
   "cell_type": "code",
   "execution_count": 26,
   "metadata": {},
   "outputs": [
    {
     "data": {
      "image/png": "[encoded data removed]",
      "text/plain": [
       "<Figure size 1000x600 with 1 Axes>"
      ]
     },
     "metadata": {},
     "output_type": "display_data"
    }
   ],
   "source": [
    "# 画出timestamp的frequency\n",
    "\n",
    "plt.figure(figsize=(10, 6))\n",
    "sns.histplot(timestamp, bins=500)\n",
    "plt.title('Timestamp Frequency')\n",
    "plt.xlabel('Timestamp')\n",
    "plt.ylabel('Frequency')\n",
    "plt.show()"
   ]
  },
  {
   "cell_type": "markdown",
   "metadata": {},
   "source": [
    "### Easy bertopic"
   ]
  },
  {
   "cell_type": "code",
   "execution_count": 32,
   "metadata": {},
   "outputs": [
    {
     "data": {
      "text/html": [
       "<div>\n",
       "<style scoped>\n",
       "    .dataframe tbody tr th:only-of-type {\n",
       "        vertical-align: middle;\n",
       "    }\n",
       "\n",
       "    .dataframe tbody tr th {\n",
       "        vertical-align: top;\n",
       "    }\n",
       "\n",
       "    .dataframe thead th {\n",
       "        text-align: right;\n",
       "    }\n",
       "</style>\n",
       "<table border=\"1\" class=\"dataframe\">\n",
       "  <thead>\n",
       "    <tr style=\"text-align: right;\">\n",
       "      <th></th>\n",
       "      <th>Topic</th>\n",
       "      <th>Count</th>\n",
       "      <th>Name</th>\n",
       "      <th>Representation</th>\n",
       "      <th>Representative_Docs</th>\n",
       "    </tr>\n",
       "  </thead>\n",
       "  <tbody>\n",
       "    <tr>\n",
       "      <th>0</th>\n",
       "      <td>0</td>\n",
       "      <td>118</td>\n",
       "      <td>0_天_子_知_下</td>\n",
       "      <td>[天, 子, 知, 下, 王, 道, 能, 行, 大, 言]</td>\n",
       "      <td>[天 命 之 谓 性 率 性 之 谓 道 修 道 之 谓 教 道 也 者 不 可 须臾 离 ...</td>\n",
       "    </tr>\n",
       "    <tr>\n",
       "      <th>1</th>\n",
       "      <td>1</td>\n",
       "      <td>60</td>\n",
       "      <td>1_子_天_行_道</td>\n",
       "      <td>[子, 天, 行, 道, 礼, 仁, 民, 如, 君子, 此]</td>\n",
       "      <td>[孔子 曰 君子 之 道 譬 犹 防 与 夫 礼 之 塞 乱 之 所 从 生 也 ； 犹 防...</td>\n",
       "    </tr>\n",
       "    <tr>\n",
       "      <th>2</th>\n",
       "      <td>2</td>\n",
       "      <td>42</td>\n",
       "      <td>2_公_王_君_下</td>\n",
       "      <td>[公, 王, 君, 下, 天, 子, 大, 臣, 国, 能]</td>\n",
       "      <td>[圣 人 之 于 天 下 百 姓 也 其 犹 赤 子 乎 饥 者 则 食 之 寒 者 则 衣...</td>\n",
       "    </tr>\n",
       "    <tr>\n",
       "      <th>3</th>\n",
       "      <td>3</td>\n",
       "      <td>40</td>\n",
       "      <td>3_能_言_行_孔子</td>\n",
       "      <td>[能, 言, 行, 孔子, 然, 知, 善, 非, 君, 生]</td>\n",
       "      <td>[卫 将 军 文子 问 于 子贡 曰 吾 闻 孔子 之 施 教 也 先 之 以 《 诗 》 ...</td>\n",
       "    </tr>\n",
       "    <tr>\n",
       "      <th>4</th>\n",
       "      <td>4</td>\n",
       "      <td>34</td>\n",
       "      <td>4_天_王_大_能</td>\n",
       "      <td>[天, 王, 大, 能, 孟子, 知, 生, 子, 礼, 与]</td>\n",
       "      <td>[孟子 曰 尽 其 心 者 知 其 性 也 知 其 性 则 知 天 矣 存 其 心 养 其 ...</td>\n",
       "    </tr>\n",
       "    <tr>\n",
       "      <th>5</th>\n",
       "      <td>5</td>\n",
       "      <td>28</td>\n",
       "      <td>5_测_仁_君子_次</td>\n",
       "      <td>[测, 仁, 君子, 次, 忠, 道, 行, 子, 大, 天]</td>\n",
       "      <td>[子 曰 学 而 时 习 之 不 亦 说 乎 有 朋 自 远 方 来 不 亦 乐 乎 人 不...</td>\n",
       "    </tr>\n",
       "    <tr>\n",
       "      <th>6</th>\n",
       "      <td>6</td>\n",
       "      <td>24</td>\n",
       "      <td>6_王_子_君_天</td>\n",
       "      <td>[王, 子, 君, 天, 下, 公, 臣, 国, 言, 大]</td>\n",
       "      <td>[鲁 哀 公 问 子夏 曰 必 学 而 后 可 以 安 国 保 民 乎 子夏 曰 不 学 而...</td>\n",
       "    </tr>\n",
       "  </tbody>\n",
       "</table>\n",
       "</div>"
      ],
      "text/plain": [
       "   Topic  Count        Name                   Representation  \\\n",
       "0      0    118   0_天_子_知_下   [天, 子, 知, 下, 王, 道, 能, 行, 大, 言]   \n",
       "1      1     60   1_子_天_行_道  [子, 天, 行, 道, 礼, 仁, 民, 如, 君子, 此]   \n",
       "2      2     42   2_公_王_君_下   [公, 王, 君, 下, 天, 子, 大, 臣, 国, 能]   \n",
       "3      3     40  3_能_言_行_孔子  [能, 言, 行, 孔子, 然, 知, 善, 非, 君, 生]   \n",
       "4      4     34   4_天_王_大_能  [天, 王, 大, 能, 孟子, 知, 生, 子, 礼, 与]   \n",
       "5      5     28  5_测_仁_君子_次  [测, 仁, 君子, 次, 忠, 道, 行, 子, 大, 天]   \n",
       "6      6     24   6_王_子_君_天   [王, 子, 君, 天, 下, 公, 臣, 国, 言, 大]   \n",
       "\n",
       "                                 Representative_Docs  \n",
       "0  [天 命 之 谓 性 率 性 之 谓 道 修 道 之 谓 教 道 也 者 不 可 须臾 离 ...  \n",
       "1  [孔子 曰 君子 之 道 譬 犹 防 与 夫 礼 之 塞 乱 之 所 从 生 也 ； 犹 防...  \n",
       "2  [圣 人 之 于 天 下 百 姓 也 其 犹 赤 子 乎 饥 者 则 食 之 寒 者 则 衣...  \n",
       "3  [卫 将 军 文子 问 于 子贡 曰 吾 闻 孔子 之 施 教 也 先 之 以 《 诗 》 ...  \n",
       "4  [孟子 曰 尽 其 心 者 知 其 性 也 知 其 性 则 知 天 矣 存 其 心 养 其 ...  \n",
       "5  [子 曰 学 而 时 习 之 不 亦 说 乎 有 朋 自 远 方 来 不 亦 乐 乎 人 不...  \n",
       "6  [鲁 哀 公 问 子夏 曰 必 学 而 后 可 以 安 国 保 民 乎 子夏 曰 不 学 而...  "
      ]
     },
     "execution_count": 32,
     "metadata": {},
     "output_type": "execute_result"
    }
   ],
   "source": [
    "#然后初始化CountVectorizer，在bertopic中计算tf-idf需要用到的，这时候要加载停用词，\n",
    "#作者建议在聚类之后再使用停用词，因为句子embedding需要句子完整，如果一开始就去停用词，会导致embdding语义不完整\n",
    "#所以在 CountVectorizer中才使用停用词，其实也就是不计算停用词对主题类的重要性\n",
    "stop_word = [line.strip() for line in open('data/stop_word.txt','r',encoding='utf-8')]\n",
    "vectorizer_model = CountVectorizer(stop_words=stop_word,analyzer='word', token_pattern=u\"(?u)\\\\b\\\\w+\\\\b\")\n",
    "#这里analyzer='word', token_pattern=u\"(?u)\\\\b\\\\w+\\\\b\" 的设置就是针对汉语的，因为汉语词既可以是单字词，又可以是多字词\n",
    "\n",
    "# 训练模型\n",
    "topic_model = BERTopic(language=\"multilingual\", vectorizer_model=vectorizer_model, nr_topics='auto') #注意：这里有一些参数可以设置，最好查看源代码进行设置\n",
    "topic = topic_model.fit(data_set, embeddings)\n",
    "topic.get_topic_info() #还有很多其他的信息可以输出参考bertopic的github"
   ]
  },
  {
   "cell_type": "code",
   "execution_count": 33,
   "metadata": {},
   "outputs": [
    {
     "data": {
      "application/vnd.plotly.v1+json": {
       "config": {
        "plotlyServerURL": "https://plot.ly"
       },
       "data": [
        {
         "customdata": [
          [
           0,
           "天 | 子 | 知 | 下 | 王",
           118
          ],
          [
           1,
           "子 | 天 | 行 | 道 | 礼",
           60
          ],
          [
           2,
           "公 | 王 | 君 | 下 | 天",
           42
          ],
          [
           3,
           "能 | 言 | 行 | 孔子 | 然",
           40
          ],
          [
           4,
           "天 | 王 | 大 | 能 | 孟子",
           34
          ],
          [
           5,
           "测 | 仁 | 君子 | 次 | 忠",
           28
          ],
          [
           6,
           "王 | 子 | 君 | 天 | 下",
           24
          ]
         ],
         "hovertemplate": "<b>Topic %{customdata[0]}</b><br>%{customdata[1]}<br>Size: %{customdata[2]}",
         "legendgroup": "",
         "marker": {
          "color": "#B0BEC5",
          "line": {
           "color": "DarkSlateGrey",
           "width": 2
          },
          "size": [
           118,
           60,
           42,
           40,
           34,
           28,
           24
          ],
          "sizemode": "area",
          "sizeref": 0.07375,
          "symbol": "circle"
         },
         "mode": "markers",
         "name": "",
         "orientation": "v",
         "showlegend": false,
         "type": "scatter",
         "x": [
          6.704725742340088,
          6.1191630363464355,
          -9.801493644714355,
          6.674530506134033,
          7.425846099853516,
          6.54274320602417,
          -10.122069358825684
         ],
         "xaxis": "x",
         "y": [
          -7.9838690757751465,
          -8.705592155456543,
          10.79178524017334,
          -7.428543567657471,
          -7.863471508026123,
          -9.120957374572754,
          11.112175941467285
         ],
         "yaxis": "y"
        }
       ],
       "layout": {
        "annotations": [
         {
          "showarrow": false,
          "text": "D1",
          "x": -11.640379762649536,
          "y": 1.1449506759643553,
          "yshift": 10
         },
         {
          "showarrow": false,
          "text": "D2",
          "x": -1.5503283739089966,
          "xshift": 10,
          "y": 12.779002332687378
         }
        ],
        "height": 650,
        "hoverlabel": {
         "bgcolor": "white",
         "font": {
          "family": "Rockwell",
          "size": 16
         }
        },
        "legend": {
         "itemsizing": "constant",
         "tracegroupgap": 0
        },
        "margin": {
         "t": 60
        },
        "shapes": [
         {
          "line": {
           "color": "#CFD8DC",
           "width": 2
          },
          "type": "line",
          "x0": -1.5503283739089966,
          "x1": -1.5503283739089966,
          "y0": -10.489100980758668,
          "y1": 12.779002332687378
         },
         {
          "line": {
           "color": "#9E9E9E",
           "width": 2
          },
          "type": "line",
          "x0": -11.640379762649536,
          "x1": 8.539723014831543,
          "y0": 1.1449506759643553,
          "y1": 1.1449506759643553
         }
        ],
        "sliders": [
         {
          "active": 0,
          "pad": {
           "t": 50
          },
          "steps": [
           {
            "args": [
             {
              "marker.color": [
               [
                "red",
                "#B0BEC5",
                "#B0BEC5",
                "#B0BEC5",
                "#B0BEC5",
                "#B0BEC5",
                "#B0BEC5"
               ]
              ]
             }
            ],
            "label": "Topic 0",
            "method": "update"
           },
           {
            "args": [
             {
              "marker.color": [
               [
                "#B0BEC5",
                "red",
                "#B0BEC5",
                "#B0BEC5",
                "#B0BEC5",
                "#B0BEC5",
                "#B0BEC5"
               ]
              ]
             }
            ],
            "label": "Topic 1",
            "method": "update"
           },
           {
            "args": [
             {
              "marker.color": [
               [
                "#B0BEC5",
                "#B0BEC5",
                "red",
                "#B0BEC5",
                "#B0BEC5",
                "#B0BEC5",
                "#B0BEC5"
               ]
              ]
             }
            ],
            "label": "Topic 2",
            "method": "update"
           },
           {
            "args": [
             {
              "marker.color": [
               [
                "#B0BEC5",
                "#B0BEC5",
                "#B0BEC5",
                "red",
                "#B0BEC5",
                "#B0BEC5",
                "#B0BEC5"
               ]
              ]
             }
            ],
            "label": "Topic 3",
            "method": "update"
           },
           {
            "args": [
             {
              "marker.color": [
               [
                "#B0BEC5",
                "#B0BEC5",
                "#B0BEC5",
                "#B0BEC5",
                "red",
                "#B0BEC5",
                "#B0BEC5"
               ]
              ]
             }
            ],
            "label": "Topic 4",
            "method": "update"
           },
           {
            "args": [
             {
              "marker.color": [
               [
                "#B0BEC5",
                "#B0BEC5",
                "#B0BEC5",
                "#B0BEC5",
                "#B0BEC5",
                "red",
                "#B0BEC5"
               ]
              ]
             }
            ],
            "label": "Topic 5",
            "method": "update"
           },
           {
            "args": [
             {
              "marker.color": [
               [
                "#B0BEC5",
                "#B0BEC5",
                "#B0BEC5",
                "#B0BEC5",
                "#B0BEC5",
                "#B0BEC5",
                "red"
               ]
              ]
             }
            ],
            "label": "Topic 6",
            "method": "update"
           }
          ]
         }
        ],
        "template": {
         "data": {
          "bar": [
           {
            "error_x": {
             "color": "rgb(36,36,36)"
            },
            "error_y": {
             "color": "rgb(36,36,36)"
            },
            "marker": {
             "line": {
              "color": "white",
              "width": 0.5
             },
             "pattern": {
              "fillmode": "overlay",
              "size": 10,
              "solidity": 0.2
             }
            },
            "type": "bar"
           }
          ],
          "barpolar": [
           {
            "marker": {
             "line": {
              "color": "white",
              "width": 0.5
             },
             "pattern": {
              "fillmode": "overlay",
              "size": 10,
              "solidity": 0.2
             }
            },
            "type": "barpolar"
           }
          ],
          "carpet": [
           {
            "aaxis": {
             "endlinecolor": "rgb(36,36,36)",
             "gridcolor": "white",
             "linecolor": "white",
             "minorgridcolor": "white",
             "startlinecolor": "rgb(36,36,36)"
            },
            "baxis": {
             "endlinecolor": "rgb(36,36,36)",
             "gridcolor": "white",
             "linecolor": "white",
             "minorgridcolor": "white",
             "startlinecolor": "rgb(36,36,36)"
            },
            "type": "carpet"
           }
          ],
          "choropleth": [
           {
            "colorbar": {
             "outlinewidth": 1,
             "tickcolor": "rgb(36,36,36)",
             "ticks": "outside"
            },
            "type": "choropleth"
           }
          ],
          "contour": [
           {
            "colorbar": {
             "outlinewidth": 1,
             "tickcolor": "rgb(36,36,36)",
             "ticks": "outside"
            },
            "colorscale": [
             [
              0,
              "#440154"
             ],
             [
              0.1111111111111111,
              "#482878"
             ],
             [
              0.2222222222222222,
              "#3e4989"
             ],
             [
              0.3333333333333333,
              "#31688e"
             ],
             [
              0.4444444444444444,
              "#26828e"
             ],
             [
              0.5555555555555556,
              "#1f9e89"
             ],
             [
              0.6666666666666666,
              "#35b779"
             ],
             [
              0.7777777777777778,
              "#6ece58"
             ],
             [
              0.8888888888888888,
              "#b5de2b"
             ],
             [
              1,
              "#fde725"
             ]
            ],
            "type": "contour"
           }
          ],
          "contourcarpet": [
           {
            "colorbar": {
             "outlinewidth": 1,
             "tickcolor": "rgb(36,36,36)",
             "ticks": "outside"
            },
            "type": "contourcarpet"
           }
          ],
          "heatmap": [
           {
            "colorbar": {
             "outlinewidth": 1,
             "tickcolor": "rgb(36,36,36)",
             "ticks": "outside"
            },
            "colorscale": [
             [
              0,
              "#440154"
             ],
             [
              0.1111111111111111,
              "#482878"
             ],
             [
              0.2222222222222222,
              "#3e4989"
             ],
             [
              0.3333333333333333,
              "#31688e"
             ],
             [
              0.4444444444444444,
              "#26828e"
             ],
             [
              0.5555555555555556,
              "#1f9e89"
             ],
             [
              0.6666666666666666,
              "#35b779"
             ],
             [
              0.7777777777777778,
              "#6ece58"
             ],
             [
              0.8888888888888888,
              "#b5de2b"
             ],
             [
              1,
              "#fde725"
             ]
            ],
            "type": "heatmap"
           }
          ],
          "heatmapgl": [
           {
            "colorbar": {
             "outlinewidth": 1,
             "tickcolor": "rgb(36,36,36)",
             "ticks": "outside"
            },
            "colorscale": [
             [
              0,
              "#440154"
             ],
             [
              0.1111111111111111,
              "#482878"
             ],
             [
              0.2222222222222222,
              "#3e4989"
             ],
             [
              0.3333333333333333,
              "#31688e"
             ],
             [
              0.4444444444444444,
              "#26828e"
             ],
             [
              0.5555555555555556,
              "#1f9e89"
             ],
             [
              0.6666666666666666,
              "#35b779"
             ],
             [
              0.7777777777777778,
              "#6ece58"
             ],
             [
              0.8888888888888888,
              "#b5de2b"
             ],
             [
              1,
              "#fde725"
             ]
            ],
            "type": "heatmapgl"
           }
          ],
          "histogram": [
           {
            "marker": {
             "line": {
              "color": "white",
              "width": 0.6
             }
            },
            "type": "histogram"
           }
          ],
          "histogram2d": [
           {
            "colorbar": {
             "outlinewidth": 1,
             "tickcolor": "rgb(36,36,36)",
             "ticks": "outside"
            },
            "colorscale": [
             [
              0,
              "#440154"
             ],
             [
              0.1111111111111111,
              "#482878"
             ],
             [
              0.2222222222222222,
              "#3e4989"
             ],
             [
              0.3333333333333333,
              "#31688e"
             ],
             [
              0.4444444444444444,
              "#26828e"
             ],
             [
              0.5555555555555556,
              "#1f9e89"
             ],
             [
              0.6666666666666666,
              "#35b779"
             ],
             [
              0.7777777777777778,
              "#6ece58"
             ],
             [
              0.8888888888888888,
              "#b5de2b"
             ],
             [
              1,
              "#fde725"
             ]
            ],
            "type": "histogram2d"
           }
          ],
          "histogram2dcontour": [
           {
            "colorbar": {
             "outlinewidth": 1,
             "tickcolor": "rgb(36,36,36)",
             "ticks": "outside"
            },
            "colorscale": [
             [
              0,
              "#440154"
             ],
             [
              0.1111111111111111,
              "#482878"
             ],
             [
              0.2222222222222222,
              "#3e4989"
             ],
             [
              0.3333333333333333,
              "#31688e"
             ],
             [
              0.4444444444444444,
              "#26828e"
             ],
             [
              0.5555555555555556,
              "#1f9e89"
             ],
             [
              0.6666666666666666,
              "#35b779"
             ],
             [
              0.7777777777777778,
              "#6ece58"
             ],
             [
              0.8888888888888888,
              "#b5de2b"
             ],
             [
              1,
              "#fde725"
             ]
            ],
            "type": "histogram2dcontour"
           }
          ],
          "mesh3d": [
           {
            "colorbar": {
             "outlinewidth": 1,
             "tickcolor": "rgb(36,36,36)",
             "ticks": "outside"
            },
            "type": "mesh3d"
           }
          ],
          "parcoords": [
           {
            "line": {
             "colorbar": {
              "outlinewidth": 1,
              "tickcolor": "rgb(36,36,36)",
              "ticks": "outside"
             }
            },
            "type": "parcoords"
           }
          ],
          "pie": [
           {
            "automargin": true,
            "type": "pie"
           }
          ],
          "scatter": [
           {
            "fillpattern": {
             "fillmode": "overlay",
             "size": 10,
             "solidity": 0.2
            },
            "type": "scatter"
           }
          ],
          "scatter3d": [
           {
            "line": {
             "colorbar": {
              "outlinewidth": 1,
              "tickcolor": "rgb(36,36,36)",
              "ticks": "outside"
             }
            },
            "marker": {
             "colorbar": {
              "outlinewidth": 1,
              "tickcolor": "rgb(36,36,36)",
              "ticks": "outside"
             }
            },
            "type": "scatter3d"
           }
          ],
          "scattercarpet": [
           {
            "marker": {
             "colorbar": {
              "outlinewidth": 1,
              "tickcolor": "rgb(36,36,36)",
              "ticks": "outside"
             }
            },
            "type": "scattercarpet"
           }
          ],
          "scattergeo": [
           {
            "marker": {
             "colorbar": {
              "outlinewidth": 1,
              "tickcolor": "rgb(36,36,36)",
              "ticks": "outside"
             }
            },
            "type": "scattergeo"
           }
          ],
          "scattergl": [
           {
            "marker": {
             "colorbar": {
              "outlinewidth": 1,
              "tickcolor": "rgb(36,36,36)",
              "ticks": "outside"
             }
            },
            "type": "scattergl"
           }
          ],
          "scattermapbox": [
           {
            "marker": {
             "colorbar": {
              "outlinewidth": 1,
              "tickcolor": "rgb(36,36,36)",
              "ticks": "outside"
             }
            },
            "type": "scattermapbox"
           }
          ],
          "scatterpolar": [
           {
            "marker": {
             "colorbar": {
              "outlinewidth": 1,
              "tickcolor": "rgb(36,36,36)",
              "ticks": "outside"
             }
            },
            "type": "scatterpolar"
           }
          ],
          "scatterpolargl": [
           {
            "marker": {
             "colorbar": {
              "outlinewidth": 1,
              "tickcolor": "rgb(36,36,36)",
              "ticks": "outside"
             }
            },
            "type": "scatterpolargl"
           }
          ],
          "scatterternary": [
           {
            "marker": {
             "colorbar": {
              "outlinewidth": 1,
              "tickcolor": "rgb(36,36,36)",
              "ticks": "outside"
             }
            },
            "type": "scatterternary"
           }
          ],
          "surface": [
           {
            "colorbar": {
             "outlinewidth": 1,
             "tickcolor": "rgb(36,36,36)",
             "ticks": "outside"
            },
            "colorscale": [
             [
              0,
              "#440154"
             ],
             [
              0.1111111111111111,
              "#482878"
             ],
             [
              0.2222222222222222,
              "#3e4989"
             ],
             [
              0.3333333333333333,
              "#31688e"
             ],
             [
              0.4444444444444444,
              "#26828e"
             ],
             [
              0.5555555555555556,
              "#1f9e89"
             ],
             [
              0.6666666666666666,
              "#35b779"
             ],
             [
              0.7777777777777778,
              "#6ece58"
             ],
             [
              0.8888888888888888,
              "#b5de2b"
             ],
             [
              1,
              "#fde725"
             ]
            ],
            "type": "surface"
           }
          ],
          "table": [
           {
            "cells": {
             "fill": {
              "color": "rgb(237,237,237)"
             },
             "line": {
              "color": "white"
             }
            },
            "header": {
             "fill": {
              "color": "rgb(217,217,217)"
             },
             "line": {
              "color": "white"
             }
            },
            "type": "table"
           }
          ]
         },
         "layout": {
          "annotationdefaults": {
           "arrowhead": 0,
           "arrowwidth": 1
          },
          "autotypenumbers": "strict",
          "coloraxis": {
           "colorbar": {
            "outlinewidth": 1,
            "tickcolor": "rgb(36,36,36)",
            "ticks": "outside"
           }
          },
          "colorscale": {
           "diverging": [
            [
             0,
             "rgb(103,0,31)"
            ],
            [
             0.1,
             "rgb(178,24,43)"
            ],
            [
             0.2,
             "rgb(214,96,77)"
            ],
            [
             0.3,
             "rgb(244,165,130)"
            ],
            [
             0.4,
             "rgb(253,219,199)"
            ],
            [
             0.5,
             "rgb(247,247,247)"
            ],
            [
             0.6,
             "rgb(209,229,240)"
            ],
            [
             0.7,
             "rgb(146,197,222)"
            ],
            [
             0.8,
             "rgb(67,147,195)"
            ],
            [
             0.9,
             "rgb(33,102,172)"
            ],
            [
             1,
             "rgb(5,48,97)"
            ]
           ],
           "sequential": [
            [
             0,
             "#440154"
            ],
            [
             0.1111111111111111,
             "#482878"
            ],
            [
             0.2222222222222222,
             "#3e4989"
            ],
            [
             0.3333333333333333,
             "#31688e"
            ],
            [
             0.4444444444444444,
             "#26828e"
            ],
            [
             0.5555555555555556,
             "#1f9e89"
            ],
            [
             0.6666666666666666,
             "#35b779"
            ],
            [
             0.7777777777777778,
             "#6ece58"
            ],
            [
             0.8888888888888888,
             "#b5de2b"
            ],
            [
             1,
             "#fde725"
            ]
           ],
           "sequentialminus": [
            [
             0,
             "#440154"
            ],
            [
             0.1111111111111111,
             "#482878"
            ],
            [
             0.2222222222222222,
             "#3e4989"
            ],
            [
             0.3333333333333333,
             "#31688e"
            ],
            [
             0.4444444444444444,
             "#26828e"
            ],
            [
             0.5555555555555556,
             "#1f9e89"
            ],
            [
             0.6666666666666666,
             "#35b779"
            ],
            [
             0.7777777777777778,
             "#6ece58"
            ],
            [
             0.8888888888888888,
             "#b5de2b"
            ],
            [
             1,
             "#fde725"
            ]
           ]
          },
          "colorway": [
           "#1F77B4",
           "#FF7F0E",
           "#2CA02C",
           "#D62728",
           "#9467BD",
           "#8C564B",
           "#E377C2",
           "#7F7F7F",
           "#BCBD22",
           "#17BECF"
          ],
          "font": {
           "color": "rgb(36,36,36)"
          },
          "geo": {
           "bgcolor": "white",
           "lakecolor": "white",
           "landcolor": "white",
           "showlakes": true,
           "showland": true,
           "subunitcolor": "white"
          },
          "hoverlabel": {
           "align": "left"
          },
          "hovermode": "closest",
          "mapbox": {
           "style": "light"
          },
          "paper_bgcolor": "white",
          "plot_bgcolor": "white",
          "polar": {
           "angularaxis": {
            "gridcolor": "rgb(232,232,232)",
            "linecolor": "rgb(36,36,36)",
            "showgrid": false,
            "showline": true,
            "ticks": "outside"
           },
           "bgcolor": "white",
           "radialaxis": {
            "gridcolor": "rgb(232,232,232)",
            "linecolor": "rgb(36,36,36)",
            "showgrid": false,
            "showline": true,
            "ticks": "outside"
           }
          },
          "scene": {
           "xaxis": {
            "backgroundcolor": "white",
            "gridcolor": "rgb(232,232,232)",
            "gridwidth": 2,
            "linecolor": "rgb(36,36,36)",
            "showbackground": true,
            "showgrid": false,
            "showline": true,
            "ticks": "outside",
            "zeroline": false,
            "zerolinecolor": "rgb(36,36,36)"
           },
           "yaxis": {
            "backgroundcolor": "white",
            "gridcolor": "rgb(232,232,232)",
            "gridwidth": 2,
            "linecolor": "rgb(36,36,36)",
            "showbackground": true,
            "showgrid": false,
            "showline": true,
            "ticks": "outside",
            "zeroline": false,
            "zerolinecolor": "rgb(36,36,36)"
           },
           "zaxis": {
            "backgroundcolor": "white",
            "gridcolor": "rgb(232,232,232)",
            "gridwidth": 2,
            "linecolor": "rgb(36,36,36)",
            "showbackground": true,
            "showgrid": false,
            "showline": true,
            "ticks": "outside",
            "zeroline": false,
            "zerolinecolor": "rgb(36,36,36)"
           }
          },
          "shapedefaults": {
           "fillcolor": "black",
           "line": {
            "width": 0
           },
           "opacity": 0.3
          },
          "ternary": {
           "aaxis": {
            "gridcolor": "rgb(232,232,232)",
            "linecolor": "rgb(36,36,36)",
            "showgrid": false,
            "showline": true,
            "ticks": "outside"
           },
           "baxis": {
            "gridcolor": "rgb(232,232,232)",
            "linecolor": "rgb(36,36,36)",
            "showgrid": false,
            "showline": true,
            "ticks": "outside"
           },
           "bgcolor": "white",
           "caxis": {
            "gridcolor": "rgb(232,232,232)",
            "linecolor": "rgb(36,36,36)",
            "showgrid": false,
            "showline": true,
            "ticks": "outside"
           }
          },
          "title": {
           "x": 0.05
          },
          "xaxis": {
           "automargin": true,
           "gridcolor": "rgb(232,232,232)",
           "linecolor": "rgb(36,36,36)",
           "showgrid": false,
           "showline": true,
           "ticks": "outside",
           "title": {
            "standoff": 15
           },
           "zeroline": false,
           "zerolinecolor": "rgb(36,36,36)"
          },
          "yaxis": {
           "automargin": true,
           "gridcolor": "rgb(232,232,232)",
           "linecolor": "rgb(36,36,36)",
           "showgrid": false,
           "showline": true,
           "ticks": "outside",
           "title": {
            "standoff": 15
           },
           "zeroline": false,
           "zerolinecolor": "rgb(36,36,36)"
          }
         }
        },
        "title": {
         "font": {
          "color": "Black",
          "size": 22
         },
         "text": "<b>Intertopic Distance Map</b>",
         "x": 0.5,
         "xanchor": "center",
         "y": 0.95,
         "yanchor": "top"
        },
        "width": 650,
        "xaxis": {
         "anchor": "y",
         "domain": [
          0,
          1
         ],
         "range": [
          -11.640379762649536,
          8.539723014831543
         ],
         "title": {
          "text": ""
         },
         "visible": false
        },
        "yaxis": {
         "anchor": "x",
         "domain": [
          0,
          1
         ],
         "range": [
          -10.489100980758668,
          12.779002332687378
         ],
         "title": {
          "text": ""
         },
         "visible": false
        }
       }
      }
     },
     "metadata": {},
     "output_type": "display_data"
    }
   ],
   "source": [
    "topic_model.visualize_topics()"
   ]
  },
  {
   "cell_type": "code",
   "execution_count": 26,
   "metadata": {},
   "outputs": [
    {
     "data": {
      "application/vnd.plotly.v1+json": {
       "config": {
        "plotlyServerURL": "https://plot.ly"
       },
       "data": [
        {
         "hoverinfo": "text",
         "hovertext": [
          "<b>Topic 0</b><br>Words: 子, 言, 问, 如, 孔子",
          "<b>Topic 0</b><br>Words: 礼, 孔子, 天, 此, 知",
          "<b>Topic 0</b><br>Words: 义, 仁, 行, 道, 天",
          "<b>Topic 0</b><br>Words: 义, 仁, 天, 气, 爱",
          "<b>Topic 0</b><br>Words: 问, 天, 道, 与, 知",
          "<b>Topic 0</b><br>Words: 孔子, 此, 问, 民, 礼",
          "<b>Topic 0</b><br>Words: 毒, 幸, 火, 气, 龙",
          "<b>Topic 0</b><br>Words: 此, 民, 非, 行, 仁",
          "<b>Topic 0</b><br>Words: 民, 天, 德, 孔子, 子",
          "<b>Topic 0</b><br>Words: 气, 问, 神, 性, 非"
         ],
         "marker": {
          "color": "#E69F00"
         },
         "mode": "lines",
         "name": "0_孔子_民_天_子",
         "type": "scatter",
         "x": [
          1791.686,
          1823.4,
          1901.9,
          1949,
          1980.4,
          1996.1,
          2027.5,
          2058.9,
          2074.6,
          2090.3
         ],
         "y": [
          3,
          11,
          2,
          2,
          7,
          11,
          3,
          17,
          8,
          1
         ]
        },
        {
         "hoverinfo": "text",
         "hovertext": [
          "<b>Topic 1</b><br>Words: 子, 与, 仁, 吾, 如",
          "<b>Topic 1</b><br>Words: 礼, 子, 天, 此, 义",
          "<b>Topic 1</b><br>Words: 道, 天, 行, 德, 治",
          "<b>Topic 1</b><br>Words: 天, 阳, 阴, 地, 气",
          "<b>Topic 1</b><br>Words: 问, 圣, 天, 政, 好",
          "<b>Topic 1</b><br>Words: 孔子, 天, 子, 礼, 民",
          "<b>Topic 1</b><br>Words: 子, 行, 天, 此, 必",
          "<b>Topic 1</b><br>Words: 天, 行, 子, 铭, 民"
         ],
         "marker": {
          "color": "#56B4E9"
         },
         "mode": "lines",
         "name": "1_子_天_行_道",
         "type": "scatter",
         "x": [
          1791.686,
          1823.4,
          1901.9,
          1949,
          1980.4,
          1996.1,
          2058.9,
          2074.6
         ],
         "y": [
          10,
          6,
          6,
          11,
          2,
          6,
          11,
          8
         ]
        },
        {
         "hoverinfo": "text",
         "hovertext": [
          "<b>Topic 2</b><br>Words: 天, 下, 道, 子, 知",
          "<b>Topic 2</b><br>Words: 天, 王, 子, 与, 孟子",
          "<b>Topic 2</b><br>Words: 诗, 能, 天, 非, 行",
          "<b>Topic 2</b><br>Words: 子, 王, 公, 天, 君",
          "<b>Topic 2</b><br>Words: 孔子, 子, 能, 闻, 行",
          "<b>Topic 2</b><br>Words: 知, 能, 王, 言, 圣",
          "<b>Topic 2</b><br>Words: 子思, 君, 子, 非, 下",
          "<b>Topic 2</b><br>Words: 天, 臣, 子, 太, 王",
          "<b>Topic 2</b><br>Words: 王, 天, 下, 大, 君"
         ],
         "marker": {
          "color": "#009E73"
         },
         "mode": "lines",
         "name": "2_天_子_王_下",
         "type": "scatter",
         "x": [
          1823.4,
          1839.1,
          1917.6,
          1949,
          1996.1,
          2027.5,
          2058.9,
          2074.6,
          2090.3
         ],
         "y": [
          14,
          6,
          1,
          9,
          2,
          10,
          2,
          4,
          5
         ]
        },
        {
         "hoverinfo": "text",
         "hovertext": [
          "<b>Topic 3</b><br>Words: 君子, 然, 能, 言, 非",
          "<b>Topic 3</b><br>Words: 君, 吾, 子, 公, 大",
          "<b>Topic 3</b><br>Words: 问, 三, 天, 一, 二",
          "<b>Topic 3</b><br>Words: 孔子, 字, 行, 言, 此",
          "<b>Topic 3</b><br>Words: 能, 善, 生, 文, 命",
          "<b>Topic 3</b><br>Words: 孔子, 然, 行, 非, 言",
          "<b>Topic 3</b><br>Words: 行, 言, 君子, 能, 知",
          "<b>Topic 3</b><br>Words: 臣, 非, 屈, 难, 能"
         ],
         "marker": {
          "color": "#F0E442"
         },
         "mode": "lines",
         "name": "3_能_言_行_孔子",
         "type": "scatter",
         "x": [
          1823.4,
          1949,
          1980.4,
          1996.1,
          2027.5,
          2058.9,
          2074.6,
          2090.3
         ],
         "y": [
          8,
          4,
          2,
          6,
          10,
          7,
          2,
          1
         ]
        },
        {
         "hoverinfo": "text",
         "hovertext": [
          "<b>Topic 4</b><br>Words: 大, 礼, 天, 王, 知",
          "<b>Topic 4</b><br>Words: 孟子, 王, 天, 与, 民",
          "<b>Topic 4</b><br>Words: 天, 性, 中, 气, 正",
          "<b>Topic 4</b><br>Words: 礼, 孔子, 子, 君, 天",
          "<b>Topic 4</b><br>Words: 能, 文, 生, 王, 圣",
          "<b>Topic 4</b><br>Words: 王, 民, 天, 此, 赦",
          "<b>Topic 4</b><br>Words: 言, 天, 大, 时, 王",
          "<b>Topic 4</b><br>Words: 性, 恶, 情, 善, 知"
         ],
         "marker": {
          "color": "#D55E00"
         },
         "mode": "lines",
         "name": "4_天_王_大_能",
         "type": "scatter",
         "x": [
          1823.4,
          1839.1,
          1949,
          1996.1,
          2027.5,
          2058.9,
          2074.6,
          2090.3
         ],
         "y": [
          3,
          7,
          3,
          3,
          7,
          4,
          5,
          2
         ]
        },
        {
         "hoverinfo": "text",
         "hovertext": [
          "<b>Topic 5</b><br>Words: 下, 天, 乐, 礼, 国",
          "<b>Topic 5</b><br>Words: 君, 王, 公, 下, 子",
          "<b>Topic 5</b><br>Words: 君, 下, 臣, 公, 王",
          "<b>Topic 5</b><br>Words: 能, 言, 知, 见, 死",
          "<b>Topic 5</b><br>Words: 公, 兮, 德, 大, 天",
          "<b>Topic 5</b><br>Words: 帝, 冠, 后, 太, 公"
         ],
         "marker": {
          "color": "#0072B2"
         },
         "mode": "lines",
         "name": "5_下_公_天_君",
         "type": "scatter",
         "x": [
          1823.4,
          1917.6,
          1949,
          2027.5,
          2074.6,
          2090.3
         ],
         "y": [
          6,
          6,
          10,
          4,
          5,
          2
         ]
        },
        {
         "hoverinfo": "text",
         "hovertext": [
          "<b>Topic 6</b><br>Words: 子, 仁, 君子, 知, 道",
          "<b>Topic 6</b><br>Words: 同, 相, 仁, 行, 道",
          "<b>Topic 6</b><br>Words: 仁, 大, 变, 天, 贤",
          "<b>Topic 6</b><br>Words: 测, 次, 撰, 断, 决",
          "<b>Topic 6</b><br>Words: 忠, 尽, 德, 君, 仁",
          "<b>Topic 6</b><br>Words: 仁, 君子, 贵, 富, 悒"
         ],
         "marker": {
          "color": "#CC79A7"
         },
         "mode": "lines",
         "name": "6_测_仁_次_君子",
         "type": "scatter",
         "x": [
          1791.686,
          1886.2,
          1949,
          1980.4,
          2058.9,
          2074.6
         ],
         "y": [
          3,
          4,
          8,
          6,
          5,
          2
         ]
        },
        {
         "hoverinfo": "text",
         "hovertext": [
          "<b>Topic 7</b><br>Words: 君, 王, 子, 诗, 天",
          "<b>Topic 7</b><br>Words: 王, 君, 公, 子, 下",
          "<b>Topic 7</b><br>Words: 子, 言, 天, 王, 行",
          "<b>Topic 7</b><br>Words: 帝, 天, 冠, 子, 王",
          "<b>Topic 7</b><br>Words: 帝, 王, 天, 言, 子"
         ],
         "marker": {
          "color": "#E69F00"
         },
         "mode": "lines",
         "name": "7_王_君_子_天",
         "type": "scatter",
         "x": [
          1917.6,
          1949,
          2027.5,
          2074.6,
          2090.3
         ],
         "y": [
          3,
          16,
          4,
          1,
          1
         ]
        }
       ],
       "layout": {
        "height": 450,
        "hoverlabel": {
         "bgcolor": "white",
         "font": {
          "family": "Rockwell",
          "size": 16
         }
        },
        "legend": {
         "title": {
          "text": "<b>Global Topic Representation"
         }
        },
        "template": {
         "data": {
          "bar": [
           {
            "error_x": {
             "color": "rgb(36,36,36)"
            },
            "error_y": {
             "color": "rgb(36,36,36)"
            },
            "marker": {
             "line": {
              "color": "white",
              "width": 0.5
             },
             "pattern": {
              "fillmode": "overlay",
              "size": 10,
              "solidity": 0.2
             }
            },
            "type": "bar"
           }
          ],
          "barpolar": [
           {
            "marker": {
             "line": {
              "color": "white",
              "width": 0.5
             },
             "pattern": {
              "fillmode": "overlay",
              "size": 10,
              "solidity": 0.2
             }
            },
            "type": "barpolar"
           }
          ],
          "carpet": [
           {
            "aaxis": {
             "endlinecolor": "rgb(36,36,36)",
             "gridcolor": "white",
             "linecolor": "white",
             "minorgridcolor": "white",
             "startlinecolor": "rgb(36,36,36)"
            },
            "baxis": {
             "endlinecolor": "rgb(36,36,36)",
             "gridcolor": "white",
             "linecolor": "white",
             "minorgridcolor": "white",
             "startlinecolor": "rgb(36,36,36)"
            },
            "type": "carpet"
           }
          ],
          "choropleth": [
           {
            "colorbar": {
             "outlinewidth": 1,
             "tickcolor": "rgb(36,36,36)",
             "ticks": "outside"
            },
            "type": "choropleth"
           }
          ],
          "contour": [
           {
            "colorbar": {
             "outlinewidth": 1,
             "tickcolor": "rgb(36,36,36)",
             "ticks": "outside"
            },
            "colorscale": [
             [
              0,
              "#440154"
             ],
             [
              0.1111111111111111,
              "#482878"
             ],
             [
              0.2222222222222222,
              "#3e4989"
             ],
             [
              0.3333333333333333,
              "#31688e"
             ],
             [
              0.4444444444444444,
              "#26828e"
             ],
             [
              0.5555555555555556,
              "#1f9e89"
             ],
             [
              0.6666666666666666,
              "#35b779"
             ],
             [
              0.7777777777777778,
              "#6ece58"
             ],
             [
              0.8888888888888888,
              "#b5de2b"
             ],
             [
              1,
              "#fde725"
             ]
            ],
            "type": "contour"
           }
          ],
          "contourcarpet": [
           {
            "colorbar": {
             "outlinewidth": 1,
             "tickcolor": "rgb(36,36,36)",
             "ticks": "outside"
            },
            "type": "contourcarpet"
           }
          ],
          "heatmap": [
           {
            "colorbar": {
             "outlinewidth": 1,
             "tickcolor": "rgb(36,36,36)",
             "ticks": "outside"
            },
            "colorscale": [
             [
              0,
              "#440154"
             ],
             [
              0.1111111111111111,
              "#482878"
             ],
             [
              0.2222222222222222,
              "#3e4989"
             ],
             [
              0.3333333333333333,
              "#31688e"
             ],
             [
              0.4444444444444444,
              "#26828e"
             ],
             [
              0.5555555555555556,
              "#1f9e89"
             ],
             [
              0.6666666666666666,
              "#35b779"
             ],
             [
              0.7777777777777778,
              "#6ece58"
             ],
             [
              0.8888888888888888,
              "#b5de2b"
             ],
             [
              1,
              "#fde725"
             ]
            ],
            "type": "heatmap"
           }
          ],
          "heatmapgl": [
           {
            "colorbar": {
             "outlinewidth": 1,
             "tickcolor": "rgb(36,36,36)",
             "ticks": "outside"
            },
            "colorscale": [
             [
              0,
              "#440154"
             ],
             [
              0.1111111111111111,
              "#482878"
             ],
             [
              0.2222222222222222,
              "#3e4989"
             ],
             [
              0.3333333333333333,
              "#31688e"
             ],
             [
              0.4444444444444444,
              "#26828e"
             ],
             [
              0.5555555555555556,
              "#1f9e89"
             ],
             [
              0.6666666666666666,
              "#35b779"
             ],
             [
              0.7777777777777778,
              "#6ece58"
             ],
             [
              0.8888888888888888,
              "#b5de2b"
             ],
             [
              1,
              "#fde725"
             ]
            ],
            "type": "heatmapgl"
           }
          ],
          "histogram": [
           {
            "marker": {
             "line": {
              "color": "white",
              "width": 0.6
             }
            },
            "type": "histogram"
           }
          ],
          "histogram2d": [
           {
            "colorbar": {
             "outlinewidth": 1,
             "tickcolor": "rgb(36,36,36)",
             "ticks": "outside"
            },
            "colorscale": [
             [
              0,
              "#440154"
             ],
             [
              0.1111111111111111,
              "#482878"
             ],
             [
              0.2222222222222222,
              "#3e4989"
             ],
             [
              0.3333333333333333,
              "#31688e"
             ],
             [
              0.4444444444444444,
              "#26828e"
             ],
             [
              0.5555555555555556,
              "#1f9e89"
             ],
             [
              0.6666666666666666,
              "#35b779"
             ],
             [
              0.7777777777777778,
              "#6ece58"
             ],
             [
              0.8888888888888888,
              "#b5de2b"
             ],
             [
              1,
              "#fde725"
             ]
            ],
            "type": "histogram2d"
           }
          ],
          "histogram2dcontour": [
           {
            "colorbar": {
             "outlinewidth": 1,
             "tickcolor": "rgb(36,36,36)",
             "ticks": "outside"
            },
            "colorscale": [
             [
              0,
              "#440154"
             ],
             [
              0.1111111111111111,
              "#482878"
             ],
             [
              0.2222222222222222,
              "#3e4989"
             ],
             [
              0.3333333333333333,
              "#31688e"
             ],
             [
              0.4444444444444444,
              "#26828e"
             ],
             [
              0.5555555555555556,
              "#1f9e89"
             ],
             [
              0.6666666666666666,
              "#35b779"
             ],
             [
              0.7777777777777778,
              "#6ece58"
             ],
             [
              0.8888888888888888,
              "#b5de2b"
             ],
             [
              1,
              "#fde725"
             ]
            ],
            "type": "histogram2dcontour"
           }
          ],
          "mesh3d": [
           {
            "colorbar": {
             "outlinewidth": 1,
             "tickcolor": "rgb(36,36,36)",
             "ticks": "outside"
            },
            "type": "mesh3d"
           }
          ],
          "parcoords": [
           {
            "line": {
             "colorbar": {
              "outlinewidth": 1,
              "tickcolor": "rgb(36,36,36)",
              "ticks": "outside"
             }
            },
            "type": "parcoords"
           }
          ],
          "pie": [
           {
            "automargin": true,
            "type": "pie"
           }
          ],
          "scatter": [
           {
            "fillpattern": {
             "fillmode": "overlay",
             "size": 10,
             "solidity": 0.2
            },
            "type": "scatter"
           }
          ],
          "scatter3d": [
           {
            "line": {
             "colorbar": {
              "outlinewidth": 1,
              "tickcolor": "rgb(36,36,36)",
              "ticks": "outside"
             }
            },
            "marker": {
             "colorbar": {
              "outlinewidth": 1,
              "tickcolor": "rgb(36,36,36)",
              "ticks": "outside"
             }
            },
            "type": "scatter3d"
           }
          ],
          "scattercarpet": [
           {
            "marker": {
             "colorbar": {
              "outlinewidth": 1,
              "tickcolor": "rgb(36,36,36)",
              "ticks": "outside"
             }
            },
            "type": "scattercarpet"
           }
          ],
          "scattergeo": [
           {
            "marker": {
             "colorbar": {
              "outlinewidth": 1,
              "tickcolor": "rgb(36,36,36)",
              "ticks": "outside"
             }
            },
            "type": "scattergeo"
           }
          ],
          "scattergl": [
           {
            "marker": {
             "colorbar": {
              "outlinewidth": 1,
              "tickcolor": "rgb(36,36,36)",
              "ticks": "outside"
             }
            },
            "type": "scattergl"
           }
          ],
          "scattermapbox": [
           {
            "marker": {
             "colorbar": {
              "outlinewidth": 1,
              "tickcolor": "rgb(36,36,36)",
              "ticks": "outside"
             }
            },
            "type": "scattermapbox"
           }
          ],
          "scatterpolar": [
           {
            "marker": {
             "colorbar": {
              "outlinewidth": 1,
              "tickcolor": "rgb(36,36,36)",
              "ticks": "outside"
             }
            },
            "type": "scatterpolar"
           }
          ],
          "scatterpolargl": [
           {
            "marker": {
             "colorbar": {
              "outlinewidth": 1,
              "tickcolor": "rgb(36,36,36)",
              "ticks": "outside"
             }
            },
            "type": "scatterpolargl"
           }
          ],
          "scatterternary": [
           {
            "marker": {
             "colorbar": {
              "outlinewidth": 1,
              "tickcolor": "rgb(36,36,36)",
              "ticks": "outside"
             }
            },
            "type": "scatterternary"
           }
          ],
          "surface": [
           {
            "colorbar": {
             "outlinewidth": 1,
             "tickcolor": "rgb(36,36,36)",
             "ticks": "outside"
            },
            "colorscale": [
             [
              0,
              "#440154"
             ],
             [
              0.1111111111111111,
              "#482878"
             ],
             [
              0.2222222222222222,
              "#3e4989"
             ],
             [
              0.3333333333333333,
              "#31688e"
             ],
             [
              0.4444444444444444,
              "#26828e"
             ],
             [
              0.5555555555555556,
              "#1f9e89"
             ],
             [
              0.6666666666666666,
              "#35b779"
             ],
             [
              0.7777777777777778,
              "#6ece58"
             ],
             [
              0.8888888888888888,
              "#b5de2b"
             ],
             [
              1,
              "#fde725"
             ]
            ],
            "type": "surface"
           }
          ],
          "table": [
           {
            "cells": {
             "fill": {
              "color": "rgb(237,237,237)"
             },
             "line": {
              "color": "white"
             }
            },
            "header": {
             "fill": {
              "color": "rgb(217,217,217)"
             },
             "line": {
              "color": "white"
             }
            },
            "type": "table"
           }
          ]
         },
         "layout": {
          "annotationdefaults": {
           "arrowhead": 0,
           "arrowwidth": 1
          },
          "autotypenumbers": "strict",
          "coloraxis": {
           "colorbar": {
            "outlinewidth": 1,
            "tickcolor": "rgb(36,36,36)",
            "ticks": "outside"
           }
          },
          "colorscale": {
           "diverging": [
            [
             0,
             "rgb(103,0,31)"
            ],
            [
             0.1,
             "rgb(178,24,43)"
            ],
            [
             0.2,
             "rgb(214,96,77)"
            ],
            [
             0.3,
             "rgb(244,165,130)"
            ],
            [
             0.4,
             "rgb(253,219,199)"
            ],
            [
             0.5,
             "rgb(247,247,247)"
            ],
            [
             0.6,
             "rgb(209,229,240)"
            ],
            [
             0.7,
             "rgb(146,197,222)"
            ],
            [
             0.8,
             "rgb(67,147,195)"
            ],
            [
             0.9,
             "rgb(33,102,172)"
            ],
            [
             1,
             "rgb(5,48,97)"
            ]
           ],
           "sequential": [
            [
             0,
             "#440154"
            ],
            [
             0.1111111111111111,
             "#482878"
            ],
            [
             0.2222222222222222,
             "#3e4989"
            ],
            [
             0.3333333333333333,
             "#31688e"
            ],
            [
             0.4444444444444444,
             "#26828e"
            ],
            [
             0.5555555555555556,
             "#1f9e89"
            ],
            [
             0.6666666666666666,
             "#35b779"
            ],
            [
             0.7777777777777778,
             "#6ece58"
            ],
            [
             0.8888888888888888,
             "#b5de2b"
            ],
            [
             1,
             "#fde725"
            ]
           ],
           "sequentialminus": [
            [
             0,
             "#440154"
            ],
            [
             0.1111111111111111,
             "#482878"
            ],
            [
             0.2222222222222222,
             "#3e4989"
            ],
            [
             0.3333333333333333,
             "#31688e"
            ],
            [
             0.4444444444444444,
             "#26828e"
            ],
            [
             0.5555555555555556,
             "#1f9e89"
            ],
            [
             0.6666666666666666,
             "#35b779"
            ],
            [
             0.7777777777777778,
             "#6ece58"
            ],
            [
             0.8888888888888888,
             "#b5de2b"
            ],
            [
             1,
             "#fde725"
            ]
           ]
          },
          "colorway": [
           "#1F77B4",
           "#FF7F0E",
           "#2CA02C",
           "#D62728",
           "#9467BD",
           "#8C564B",
           "#E377C2",
           "#7F7F7F",
           "#BCBD22",
           "#17BECF"
          ],
          "font": {
           "color": "rgb(36,36,36)"
          },
          "geo": {
           "bgcolor": "white",
           "lakecolor": "white",
           "landcolor": "white",
           "showlakes": true,
           "showland": true,
           "subunitcolor": "white"
          },
          "hoverlabel": {
           "align": "left"
          },
          "hovermode": "closest",
          "mapbox": {
           "style": "light"
          },
          "paper_bgcolor": "white",
          "plot_bgcolor": "white",
          "polar": {
           "angularaxis": {
            "gridcolor": "rgb(232,232,232)",
            "linecolor": "rgb(36,36,36)",
            "showgrid": false,
            "showline": true,
            "ticks": "outside"
           },
           "bgcolor": "white",
           "radialaxis": {
            "gridcolor": "rgb(232,232,232)",
            "linecolor": "rgb(36,36,36)",
            "showgrid": false,
            "showline": true,
            "ticks": "outside"
           }
          },
          "scene": {
           "xaxis": {
            "backgroundcolor": "white",
            "gridcolor": "rgb(232,232,232)",
            "gridwidth": 2,
            "linecolor": "rgb(36,36,36)",
            "showbackground": true,
            "showgrid": false,
            "showline": true,
            "ticks": "outside",
            "zeroline": false,
            "zerolinecolor": "rgb(36,36,36)"
           },
           "yaxis": {
            "backgroundcolor": "white",
            "gridcolor": "rgb(232,232,232)",
            "gridwidth": 2,
            "linecolor": "rgb(36,36,36)",
            "showbackground": true,
            "showgrid": false,
            "showline": true,
            "ticks": "outside",
            "zeroline": false,
            "zerolinecolor": "rgb(36,36,36)"
           },
           "zaxis": {
            "backgroundcolor": "white",
            "gridcolor": "rgb(232,232,232)",
            "gridwidth": 2,
            "linecolor": "rgb(36,36,36)",
            "showbackground": true,
            "showgrid": false,
            "showline": true,
            "ticks": "outside",
            "zeroline": false,
            "zerolinecolor": "rgb(36,36,36)"
           }
          },
          "shapedefaults": {
           "fillcolor": "black",
           "line": {
            "width": 0
           },
           "opacity": 0.3
          },
          "ternary": {
           "aaxis": {
            "gridcolor": "rgb(232,232,232)",
            "linecolor": "rgb(36,36,36)",
            "showgrid": false,
            "showline": true,
            "ticks": "outside"
           },
           "baxis": {
            "gridcolor": "rgb(232,232,232)",
            "linecolor": "rgb(36,36,36)",
            "showgrid": false,
            "showline": true,
            "ticks": "outside"
           },
           "bgcolor": "white",
           "caxis": {
            "gridcolor": "rgb(232,232,232)",
            "linecolor": "rgb(36,36,36)",
            "showgrid": false,
            "showline": true,
            "ticks": "outside"
           }
          },
          "title": {
           "x": 0.05
          },
          "xaxis": {
           "automargin": true,
           "gridcolor": "rgb(232,232,232)",
           "linecolor": "rgb(36,36,36)",
           "showgrid": false,
           "showline": true,
           "ticks": "outside",
           "title": {
            "standoff": 15
           },
           "zeroline": false,
           "zerolinecolor": "rgb(36,36,36)"
          },
          "yaxis": {
           "automargin": true,
           "gridcolor": "rgb(232,232,232)",
           "linecolor": "rgb(36,36,36)",
           "showgrid": false,
           "showline": true,
           "ticks": "outside",
           "title": {
            "standoff": 15
           },
           "zeroline": false,
           "zerolinecolor": "rgb(36,36,36)"
          }
         }
        },
        "title": {
         "font": {
          "color": "Black",
          "size": 22
         },
         "text": "<b>Topics over Time</b>",
         "x": 0.4,
         "xanchor": "center",
         "y": 0.95,
         "yanchor": "top"
        },
        "width": 1250,
        "xaxis": {
         "showgrid": true
        },
        "yaxis": {
         "showgrid": true,
         "title": {
          "text": "Frequency"
         }
        }
       }
      }
     },
     "metadata": {},
     "output_type": "display_data"
    }
   ],
   "source": [
    "topics_over_time = topic_model.topics_over_time(data_set, timestamp, global_tuning=True, \n",
    "                                                evolution_tuning=True, nr_bins=20, datetime_format=\"%Y\")\n",
    "topic_model.visualize_topics_over_time(topics_over_time, top_n_topics=[0, 7])"
   ]
  },
  {
   "cell_type": "markdown",
   "metadata": {},
   "source": [
    "### finetuning bertopic"
   ]
  },
  {
   "cell_type": "code",
   "execution_count": 34,
   "metadata": {},
   "outputs": [
    {
     "data": {
      "text/html": [
       "<div>\n",
       "<style scoped>\n",
       "    .dataframe tbody tr th:only-of-type {\n",
       "        vertical-align: middle;\n",
       "    }\n",
       "\n",
       "    .dataframe tbody tr th {\n",
       "        vertical-align: top;\n",
       "    }\n",
       "\n",
       "    .dataframe thead th {\n",
       "        text-align: right;\n",
       "    }\n",
       "</style>\n",
       "<table border=\"1\" class=\"dataframe\">\n",
       "  <thead>\n",
       "    <tr style=\"text-align: right;\">\n",
       "      <th></th>\n",
       "      <th>Topic</th>\n",
       "      <th>Count</th>\n",
       "      <th>Name</th>\n",
       "      <th>Representation</th>\n",
       "      <th>Representative_Docs</th>\n",
       "    </tr>\n",
       "  </thead>\n",
       "  <tbody>\n",
       "    <tr>\n",
       "      <th>0</th>\n",
       "      <td>0</td>\n",
       "      <td>75</td>\n",
       "      <td>0_王_天_公_子</td>\n",
       "      <td>[王, 天, 公, 子, 下, 君, 国, 能, 大, 臣, 知, 言, 得, 与, 行, ...</td>\n",
       "      <td>[齐 宣 王 谓 田 过 曰 吾 闻 儒 者 亲 丧 三 年 君 与 父 孰 重 过 对 曰...</td>\n",
       "    </tr>\n",
       "    <tr>\n",
       "      <th>1</th>\n",
       "      <td>1</td>\n",
       "      <td>65</td>\n",
       "      <td>1_孔子_民_天_子</td>\n",
       "      <td>[孔子, 民, 天, 子, 此, 行, 言, 知, 问, 仁, 道, 如, 德, 君子, 礼...</td>\n",
       "      <td>[公 曰 四 代 之 政 刑 论 其 明 者 可 以 为 法 乎 子 曰 何 哉 四 代 之...</td>\n",
       "    </tr>\n",
       "    <tr>\n",
       "      <th>2</th>\n",
       "      <td>2</td>\n",
       "      <td>60</td>\n",
       "      <td>2_子_天_行_道</td>\n",
       "      <td>[子, 天, 行, 道, 礼, 仁, 民, 如, 君子, 此, 必, 德, 事, 知, 与,...</td>\n",
       "      <td>[颜 渊 问 仁 子 曰 克 己 复 礼 为 仁 一 日 克 己 复 礼 天 下 归 仁 焉...</td>\n",
       "    </tr>\n",
       "    <tr>\n",
       "      <th>3</th>\n",
       "      <td>3</td>\n",
       "      <td>40</td>\n",
       "      <td>3_能_言_行_孔子</td>\n",
       "      <td>[能, 言, 行, 孔子, 然, 善, 知, 非, 君, 生, 君子, 此, 见, 天, 子...</td>\n",
       "      <td>[卫 将 军 文子 问 于 子贡 曰 吾 闻 孔子 之 施 教 也 先 之 以 《 诗 》 ...</td>\n",
       "    </tr>\n",
       "    <tr>\n",
       "      <th>4</th>\n",
       "      <td>4</td>\n",
       "      <td>34</td>\n",
       "      <td>4_天_王_大_能</td>\n",
       "      <td>[天, 王, 大, 能, 孟子, 生, 知, 礼, 子, 与, 言, 行, 然, 事, 下,...</td>\n",
       "      <td>[孟子 曰 天 时 不 如 地 利 地 利 不 如 人 和 三 里 之 城 七 里 之 郭 ...</td>\n",
       "    </tr>\n",
       "    <tr>\n",
       "      <th>5</th>\n",
       "      <td>5</td>\n",
       "      <td>30</td>\n",
       "      <td>5_天_子_大_下</td>\n",
       "      <td>[天, 子, 大, 下, 义, 君, 王, 知, 道, 与, 然, 礼, 非, 能, 此, ...</td>\n",
       "      <td>[殷 为 天 子 三十 余 世 而 周 受 之 ； 周 为 天 子 三十 余 世 而 秦 受...</td>\n",
       "    </tr>\n",
       "    <tr>\n",
       "      <th>6</th>\n",
       "      <td>6</td>\n",
       "      <td>28</td>\n",
       "      <td>6_测_仁_次_君子</td>\n",
       "      <td>[测, 仁, 次, 君子, 忠, 道, 行, 大, 子, 天, 同, 得, 一, 德, 能,...</td>\n",
       "      <td>[子 曰 学 而 时 习 之 不 亦 说 乎 有 朋 自 远 方 来 不 亦 乐 乎 人 不...</td>\n",
       "    </tr>\n",
       "    <tr>\n",
       "      <th>7</th>\n",
       "      <td>7</td>\n",
       "      <td>14</td>\n",
       "      <td>7_王_君_子_天</td>\n",
       "      <td>[王, 君, 子, 天, 下, 公, 臣, 行, 言, 国, 民, 侯, 大, 能, 得, ...</td>\n",
       "      <td>[人 君 之 欲 平 治 天 下 而 垂 荣 名 者 必 尊 贤 而 下 士 《 易 》 曰...</td>\n",
       "    </tr>\n",
       "  </tbody>\n",
       "</table>\n",
       "</div>"
      ],
      "text/plain": [
       "   Topic  Count        Name  \\\n",
       "0      0     75   0_王_天_公_子   \n",
       "1      1     65  1_孔子_民_天_子   \n",
       "2      2     60   2_子_天_行_道   \n",
       "3      3     40  3_能_言_行_孔子   \n",
       "4      4     34   4_天_王_大_能   \n",
       "5      5     30   5_天_子_大_下   \n",
       "6      6     28  6_测_仁_次_君子   \n",
       "7      7     14   7_王_君_子_天   \n",
       "\n",
       "                                      Representation  \\\n",
       "0  [王, 天, 公, 子, 下, 君, 国, 能, 大, 臣, 知, 言, 得, 与, 行, ...   \n",
       "1  [孔子, 民, 天, 子, 此, 行, 言, 知, 问, 仁, 道, 如, 德, 君子, 礼...   \n",
       "2  [子, 天, 行, 道, 礼, 仁, 民, 如, 君子, 此, 必, 德, 事, 知, 与,...   \n",
       "3  [能, 言, 行, 孔子, 然, 善, 知, 非, 君, 生, 君子, 此, 见, 天, 子...   \n",
       "4  [天, 王, 大, 能, 孟子, 生, 知, 礼, 子, 与, 言, 行, 然, 事, 下,...   \n",
       "5  [天, 子, 大, 下, 义, 君, 王, 知, 道, 与, 然, 礼, 非, 能, 此, ...   \n",
       "6  [测, 仁, 次, 君子, 忠, 道, 行, 大, 子, 天, 同, 得, 一, 德, 能,...   \n",
       "7  [王, 君, 子, 天, 下, 公, 臣, 行, 言, 国, 民, 侯, 大, 能, 得, ...   \n",
       "\n",
       "                                 Representative_Docs  \n",
       "0  [齐 宣 王 谓 田 过 曰 吾 闻 儒 者 亲 丧 三 年 君 与 父 孰 重 过 对 曰...  \n",
       "1  [公 曰 四 代 之 政 刑 论 其 明 者 可 以 为 法 乎 子 曰 何 哉 四 代 之...  \n",
       "2  [颜 渊 问 仁 子 曰 克 己 复 礼 为 仁 一 日 克 己 复 礼 天 下 归 仁 焉...  \n",
       "3  [卫 将 军 文子 问 于 子贡 曰 吾 闻 孔子 之 施 教 也 先 之 以 《 诗 》 ...  \n",
       "4  [孟子 曰 天 时 不 如 地 利 地 利 不 如 人 和 三 里 之 城 七 里 之 郭 ...  \n",
       "5  [殷 为 天 子 三十 余 世 而 周 受 之 ； 周 为 天 子 三十 余 世 而 秦 受...  \n",
       "6  [子 曰 学 而 时 习 之 不 亦 说 乎 有 朋 自 远 方 来 不 亦 乐 乎 人 不...  \n",
       "7  [人 君 之 欲 平 治 天 下 而 垂 荣 名 者 必 尊 贤 而 下 士 《 易 》 曰...  "
      ]
     },
     "execution_count": 34,
     "metadata": {},
     "output_type": "execute_result"
    }
   ],
   "source": [
    "# # 初步使用 KMeans 聚类\n",
    "# kmeans = KMeans(n_clusters=20, random_state=42)\n",
    "# kmeans_labels = kmeans.fit_predict(embeddings)\n",
    "\n",
    "# 使用调整后的 UMAP 和 HDBSCAN\n",
    "umap_model = UMAP(n_neighbors=15, n_components=5, min_dist=0.0, metric='cosine')\n",
    "hdbscan_model = hdbscan.HDBSCAN(min_cluster_size=10, min_samples=1, cluster_selection_method='eom', prediction_data=True)\n",
    "\n",
    "# 创建 BERTopic 模型\n",
    "stop_word = [line.strip() for line in open('data/stop_word.txt','r',encoding='utf-8')]\n",
    "vectorizer_model = CountVectorizer(stop_words=stop_word,analyzer='word', token_pattern=u\"(?u)\\\\b\\\\w+\\\\b\", min_df=3)\n",
    "topic_model3 = BERTopic(umap_model=umap_model, hdbscan_model=hdbscan_model, language=\"multilingual\", vectorizer_model=vectorizer_model, top_n_words=30, nr_topics=\"auto\" )\n",
    "\n",
    "topic = topic_model3.fit(data_set, embeddings)\n",
    "topic_info = topic.get_topic_info() #还有很多其他的信息可以输出参考bertopic的github\n",
    "\n",
    "# 获取主题信息\n",
    "topic_info = topic_model3.get_topic_info()\n",
    "\n",
    "# 打印主题信息\n",
    "topic.get_topic_info()"
   ]
  },
  {
   "cell_type": "code",
   "execution_count": 31,
   "metadata": {},
   "outputs": [
    {
     "name": "stderr",
     "output_type": "stream",
     "text": [
      "2024-05-25 00:24:52,803 - BERTopic - WARNING: When you use `pickle` to save/load a BERTopic model,please make sure that the environments in which you saveand load the model are **exactly** the same. The version of BERTopic,its dependencies, and python need to remain the same.\n"
     ]
    }
   ],
   "source": [
    "topic_model3.save(\"bertopic_model.pkl\")"
   ]
  }
 ],
 "metadata": {
  "kernelspec": {
   "display_name": "mnlpa1",
   "language": "python",
   "name": "python3"
  },
  "language_info": {
   "codemirror_mode": {
    "name": "ipython",
    "version": 3
   },
   "file_extension": ".py",
   "mimetype": "text/x-python",
   "name": "python",
   "nbconvert_exporter": "python",
   "pygments_lexer": "ipython3",
   "version": "3.10.13"
  }
 },
 "nbformat": 4,
 "nbformat_minor": 2
}
